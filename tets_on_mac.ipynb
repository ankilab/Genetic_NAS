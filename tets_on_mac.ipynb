{
 "cells": [
  {
   "cell_type": "code",
   "execution_count": 1,
   "metadata": {
    "collapsed": true
   },
   "outputs": [],
   "source": [
    "from get_datasets.Get_Datasets import get_data_array, get_datasets\n",
    "from src.Train_Model import train_model\n",
    "from src.Create_Model import create_model\n",
    "from src.Evolutionary_Algorithm import create_next_population, create_first_population, select_best_2_model\n",
    "\n",
    "import re\n",
    "import os\n",
    "import random\n",
    "import tensorflow as tf\n",
    "\n",
    "import matplotlib.pyplot as plt\n",
    "import numpy as np\n",
    "from tensorflow.keras import mixed_precision\n",
    "\n",
    "policy = mixed_precision.Policy('float16')\n",
    "mixed_precision.set_global_policy(policy)\n",
    "\n",
    "physical_devices = tf.config.list_physical_devices('GPU')\n",
    "try:\n",
    "  tf.config.experimental.set_memory_growth(physical_devices[0], True)\n",
    "except:\n",
    "  # Invalid device or cannot modify virtual devices once initialized.\n",
    "  pass"
   ]
  },
  {
   "cell_type": "code",
   "execution_count": 2,
   "outputs": [
    {
     "data": {
      "text/plain": "  0%|          | 0/3883 [00:00<?, ?it/s]",
      "application/vnd.jupyter.widget-view+json": {
       "version_major": 2,
       "version_minor": 0,
       "model_id": "2c0baf8484c6492ea35b6c1be272212c"
      }
     },
     "metadata": {},
     "output_type": "display_data"
    },
    {
     "data": {
      "text/plain": "  0%|          | 0/2698 [00:00<?, ?it/s]",
      "application/vnd.jupyter.widget-view+json": {
       "version_major": 2,
       "version_minor": 0,
       "model_id": "d46d19965a4e498da3e8cca6e8544f68"
      }
     },
     "metadata": {},
     "output_type": "display_data"
    },
    {
     "data": {
      "text/plain": "  0%|          | 0/390 [00:00<?, ?it/s]",
      "application/vnd.jupyter.widget-view+json": {
       "version_major": 2,
       "version_minor": 0,
       "model_id": "aa3b5ab661914b189414784159de56e1"
      }
     },
     "metadata": {},
     "output_type": "display_data"
    },
    {
     "data": {
      "text/plain": "  0%|          | 0/234 [00:00<?, ?it/s]",
      "application/vnd.jupyter.widget-view+json": {
       "version_major": 2,
       "version_minor": 0,
       "model_id": "19a8bcfd3c2f424ca8d1806d1a4f1096"
      }
     },
     "metadata": {},
     "output_type": "display_data"
    }
   ],
   "source": [
    "x_train, y_train, x_val, y_val, x_test, y_test = get_data_array(train_dir='chest_xray_new/train',\n",
    "                                                                test_dir='chest_xray_new/test')"
   ],
   "metadata": {
    "collapsed": false
   }
  },
  {
   "cell_type": "code",
   "execution_count": 3,
   "outputs": [],
   "source": [
    "train_ds_rand, val_ds, test_ds = get_datasets(x_train, y_train, x_test, y_test, x_val, y_val)"
   ],
   "metadata": {
    "collapsed": false
   }
  },
  {
   "cell_type": "code",
   "execution_count": 4,
   "outputs": [
    {
     "name": "stderr",
     "output_type": "stream",
     "text": [
      "C:\\Users\\yd57yjac\\Anaconda3\\envs\\tf\\lib\\site-packages\\imgaug\\augmenters\\base.py:27: SuspiciousMultiImageShapeWarning: You provided a numpy array of shape (128, 128, 3) as a multi-image augmentation input, which was interpreted as (N, H, W). The last dimension however has value 1 or 3, which indicates that you provided a single image with shape (H, W, C) instead. If that is the case, you should use e.g. augmenter(image=<your input>) or augment_image(<your input>) -- note the singular 'image' instead of 'imageS'. Otherwise your single input image will be interpreted as multiple images of shape (H, W) during augmentation.\n",
      "  ia.warn(\n"
     ]
    },
    {
     "ename": "InvalidArgumentError",
     "evalue": "{{function_node __wrapped__IteratorGetNext_output_types_2_device_/job:localhost/replica:0/task:0/device:CPU:0}} TypeError: color must be int or single-element tuple\nTraceback (most recent call last):\n\n  File \"C:\\Users\\yd57yjac\\Anaconda3\\envs\\tf\\lib\\site-packages\\tensorflow\\python\\ops\\script_ops.py\", line 269, in __call__\n    return func(device, token, args)\n\n  File \"C:\\Users\\yd57yjac\\Anaconda3\\envs\\tf\\lib\\site-packages\\tensorflow\\python\\ops\\script_ops.py\", line 147, in __call__\n    outputs = self._call(device, args)\n\n  File \"C:\\Users\\yd57yjac\\Anaconda3\\envs\\tf\\lib\\site-packages\\tensorflow\\python\\ops\\script_ops.py\", line 154, in _call\n    ret = self._func(*args)\n\n  File \"C:\\Users\\yd57yjac\\Anaconda3\\envs\\tf\\lib\\site-packages\\tensorflow\\python\\autograph\\impl\\api.py\", line 642, in wrapper\n    return func(*args, **kwargs)\n\n  File \"C:\\Users\\yd57yjac\\PycharmProjects\\Genetic_NAS\\get_datasets\\Get_Datasets.py\", line 53, in augment\n    return rand_aug(images=images.numpy())\n\n  File \"C:\\Users\\yd57yjac\\Anaconda3\\envs\\tf\\lib\\site-packages\\imgaug\\augmenters\\meta.py\", line 2008, in __call__\n    return self.augment(*args, **kwargs)\n\n  File \"C:\\Users\\yd57yjac\\Anaconda3\\envs\\tf\\lib\\site-packages\\imgaug\\augmenters\\meta.py\", line 1979, in augment\n    batch_aug = self.augment_batch_(batch, hooks=hooks)\n\n  File \"C:\\Users\\yd57yjac\\Anaconda3\\envs\\tf\\lib\\site-packages\\imgaug\\augmenters\\meta.py\", line 641, in augment_batch_\n    batch_inaug = self._augment_batch_(\n\n  File \"C:\\Users\\yd57yjac\\Anaconda3\\envs\\tf\\lib\\site-packages\\imgaug\\augmenters\\meta.py\", line 3124, in _augment_batch_\n    batch = self[index].augment_batch_(\n\n  File \"C:\\Users\\yd57yjac\\Anaconda3\\envs\\tf\\lib\\site-packages\\imgaug\\augmenters\\meta.py\", line 641, in augment_batch_\n    batch_inaug = self._augment_batch_(\n\n  File \"C:\\Users\\yd57yjac\\Anaconda3\\envs\\tf\\lib\\site-packages\\imgaug\\augmenters\\meta.py\", line 3403, in _augment_batch_\n    batch_sub = self[augmenter_index].augment_batch_(\n\n  File \"C:\\Users\\yd57yjac\\Anaconda3\\envs\\tf\\lib\\site-packages\\imgaug\\augmenters\\meta.py\", line 641, in augment_batch_\n    batch_inaug = self._augment_batch_(\n\n  File \"C:\\Users\\yd57yjac\\Anaconda3\\envs\\tf\\lib\\site-packages\\imgaug\\augmenters\\pillike.py\", line 2513, in _augment_batch_\n    return super(Affine, self)._augment_batch_(\n\n  File \"C:\\Users\\yd57yjac\\Anaconda3\\envs\\tf\\lib\\site-packages\\imgaug\\augmenters\\geometric.py\", line 1336, in _augment_batch_\n    batch.images = self._augment_images_by_samples(batch.images,\n\n  File \"C:\\Users\\yd57yjac\\Anaconda3\\envs\\tf\\lib\\site-packages\\imgaug\\augmenters\\pillike.py\", line 2531, in _augment_images_by_samples\n    image[...] = warp_affine(\n\n  File \"C:\\Users\\yd57yjac\\Anaconda3\\envs\\tf\\lib\\site-packages\\imgaug\\augmenters\\pillike.py\", line 1310, in warp_affine\n    image_pil.transform(image_pil.size, PIL.Image.AFFINE, matrix,\n\n  File \"C:\\Users\\yd57yjac\\Anaconda3\\envs\\tf\\lib\\site-packages\\PIL\\Image.py\", line 2578, in transform\n    im = new(self.mode, size, fillcolor)\n\n  File \"C:\\Users\\yd57yjac\\Anaconda3\\envs\\tf\\lib\\site-packages\\PIL\\Image.py\", line 2806, in new\n    return im._new(core.fill(mode, size, color))\n\nTypeError: color must be int or single-element tuple\n\n\n\t [[{{node EagerPyFunc}}]] [Op:IteratorGetNext]",
     "output_type": "error",
     "traceback": [
      "\u001B[1;31m---------------------------------------------------------------------------\u001B[0m",
      "\u001B[1;31mInvalidArgumentError\u001B[0m                      Traceback (most recent call last)",
      "Cell \u001B[1;32mIn[4], line 1\u001B[0m\n\u001B[1;32m----> 1\u001B[0m sample_images, _ \u001B[38;5;241m=\u001B[39m \u001B[38;5;28;43mnext\u001B[39;49m\u001B[43m(\u001B[49m\u001B[38;5;28;43miter\u001B[39;49m\u001B[43m(\u001B[49m\u001B[43mtrain_ds_rand\u001B[49m\u001B[43m)\u001B[49m\u001B[43m)\u001B[49m\n\u001B[0;32m      2\u001B[0m plt\u001B[38;5;241m.\u001B[39mfigure()\n\u001B[0;32m      3\u001B[0m \u001B[38;5;28;01mfor\u001B[39;00m i, image \u001B[38;5;129;01min\u001B[39;00m \u001B[38;5;28menumerate\u001B[39m(sample_images[:\u001B[38;5;241m16\u001B[39m]):\n",
      "File \u001B[1;32m~\\Anaconda3\\envs\\tf\\lib\\site-packages\\tensorflow\\python\\data\\ops\\iterator_ops.py:766\u001B[0m, in \u001B[0;36mOwnedIterator.__next__\u001B[1;34m(self)\u001B[0m\n\u001B[0;32m    764\u001B[0m \u001B[38;5;28;01mdef\u001B[39;00m \u001B[38;5;21m__next__\u001B[39m(\u001B[38;5;28mself\u001B[39m):\n\u001B[0;32m    765\u001B[0m   \u001B[38;5;28;01mtry\u001B[39;00m:\n\u001B[1;32m--> 766\u001B[0m     \u001B[38;5;28;01mreturn\u001B[39;00m \u001B[38;5;28;43mself\u001B[39;49m\u001B[38;5;241;43m.\u001B[39;49m\u001B[43m_next_internal\u001B[49m\u001B[43m(\u001B[49m\u001B[43m)\u001B[49m\n\u001B[0;32m    767\u001B[0m   \u001B[38;5;28;01mexcept\u001B[39;00m errors\u001B[38;5;241m.\u001B[39mOutOfRangeError:\n\u001B[0;32m    768\u001B[0m     \u001B[38;5;28;01mraise\u001B[39;00m \u001B[38;5;167;01mStopIteration\u001B[39;00m\n",
      "File \u001B[1;32m~\\Anaconda3\\envs\\tf\\lib\\site-packages\\tensorflow\\python\\data\\ops\\iterator_ops.py:749\u001B[0m, in \u001B[0;36mOwnedIterator._next_internal\u001B[1;34m(self)\u001B[0m\n\u001B[0;32m    746\u001B[0m \u001B[38;5;66;03m# TODO(b/77291417): This runs in sync mode as iterators use an error status\u001B[39;00m\n\u001B[0;32m    747\u001B[0m \u001B[38;5;66;03m# to communicate that there is no more data to iterate over.\u001B[39;00m\n\u001B[0;32m    748\u001B[0m \u001B[38;5;28;01mwith\u001B[39;00m context\u001B[38;5;241m.\u001B[39mexecution_mode(context\u001B[38;5;241m.\u001B[39mSYNC):\n\u001B[1;32m--> 749\u001B[0m   ret \u001B[38;5;241m=\u001B[39m \u001B[43mgen_dataset_ops\u001B[49m\u001B[38;5;241;43m.\u001B[39;49m\u001B[43miterator_get_next\u001B[49m\u001B[43m(\u001B[49m\n\u001B[0;32m    750\u001B[0m \u001B[43m      \u001B[49m\u001B[38;5;28;43mself\u001B[39;49m\u001B[38;5;241;43m.\u001B[39;49m\u001B[43m_iterator_resource\u001B[49m\u001B[43m,\u001B[49m\n\u001B[0;32m    751\u001B[0m \u001B[43m      \u001B[49m\u001B[43moutput_types\u001B[49m\u001B[38;5;241;43m=\u001B[39;49m\u001B[38;5;28;43mself\u001B[39;49m\u001B[38;5;241;43m.\u001B[39;49m\u001B[43m_flat_output_types\u001B[49m\u001B[43m,\u001B[49m\n\u001B[0;32m    752\u001B[0m \u001B[43m      \u001B[49m\u001B[43moutput_shapes\u001B[49m\u001B[38;5;241;43m=\u001B[39;49m\u001B[38;5;28;43mself\u001B[39;49m\u001B[38;5;241;43m.\u001B[39;49m\u001B[43m_flat_output_shapes\u001B[49m\u001B[43m)\u001B[49m\n\u001B[0;32m    754\u001B[0m   \u001B[38;5;28;01mtry\u001B[39;00m:\n\u001B[0;32m    755\u001B[0m     \u001B[38;5;66;03m# Fast path for the case `self._structure` is not a nested structure.\u001B[39;00m\n\u001B[0;32m    756\u001B[0m     \u001B[38;5;28;01mreturn\u001B[39;00m \u001B[38;5;28mself\u001B[39m\u001B[38;5;241m.\u001B[39m_element_spec\u001B[38;5;241m.\u001B[39m_from_compatible_tensor_list(ret)  \u001B[38;5;66;03m# pylint: disable=protected-access\u001B[39;00m\n",
      "File \u001B[1;32m~\\Anaconda3\\envs\\tf\\lib\\site-packages\\tensorflow\\python\\ops\\gen_dataset_ops.py:3016\u001B[0m, in \u001B[0;36miterator_get_next\u001B[1;34m(iterator, output_types, output_shapes, name)\u001B[0m\n\u001B[0;32m   3014\u001B[0m   \u001B[38;5;28;01mreturn\u001B[39;00m _result\n\u001B[0;32m   3015\u001B[0m \u001B[38;5;28;01mexcept\u001B[39;00m _core\u001B[38;5;241m.\u001B[39m_NotOkStatusException \u001B[38;5;28;01mas\u001B[39;00m e:\n\u001B[1;32m-> 3016\u001B[0m   \u001B[43m_ops\u001B[49m\u001B[38;5;241;43m.\u001B[39;49m\u001B[43mraise_from_not_ok_status\u001B[49m\u001B[43m(\u001B[49m\u001B[43me\u001B[49m\u001B[43m,\u001B[49m\u001B[43m \u001B[49m\u001B[43mname\u001B[49m\u001B[43m)\u001B[49m\n\u001B[0;32m   3017\u001B[0m \u001B[38;5;28;01mexcept\u001B[39;00m _core\u001B[38;5;241m.\u001B[39m_FallbackException:\n\u001B[0;32m   3018\u001B[0m   \u001B[38;5;28;01mpass\u001B[39;00m\n",
      "File \u001B[1;32m~\\Anaconda3\\envs\\tf\\lib\\site-packages\\tensorflow\\python\\framework\\ops.py:7209\u001B[0m, in \u001B[0;36mraise_from_not_ok_status\u001B[1;34m(e, name)\u001B[0m\n\u001B[0;32m   7207\u001B[0m \u001B[38;5;28;01mdef\u001B[39;00m \u001B[38;5;21mraise_from_not_ok_status\u001B[39m(e, name):\n\u001B[0;32m   7208\u001B[0m   e\u001B[38;5;241m.\u001B[39mmessage \u001B[38;5;241m+\u001B[39m\u001B[38;5;241m=\u001B[39m (\u001B[38;5;124m\"\u001B[39m\u001B[38;5;124m name: \u001B[39m\u001B[38;5;124m\"\u001B[39m \u001B[38;5;241m+\u001B[39m name \u001B[38;5;28;01mif\u001B[39;00m name \u001B[38;5;129;01mis\u001B[39;00m \u001B[38;5;129;01mnot\u001B[39;00m \u001B[38;5;28;01mNone\u001B[39;00m \u001B[38;5;28;01melse\u001B[39;00m \u001B[38;5;124m\"\u001B[39m\u001B[38;5;124m\"\u001B[39m)\n\u001B[1;32m-> 7209\u001B[0m   \u001B[38;5;28;01mraise\u001B[39;00m core\u001B[38;5;241m.\u001B[39m_status_to_exception(e) \u001B[38;5;28;01mfrom\u001B[39;00m \u001B[38;5;28mNone\u001B[39m\n",
      "\u001B[1;31mInvalidArgumentError\u001B[0m: {{function_node __wrapped__IteratorGetNext_output_types_2_device_/job:localhost/replica:0/task:0/device:CPU:0}} TypeError: color must be int or single-element tuple\nTraceback (most recent call last):\n\n  File \"C:\\Users\\yd57yjac\\Anaconda3\\envs\\tf\\lib\\site-packages\\tensorflow\\python\\ops\\script_ops.py\", line 269, in __call__\n    return func(device, token, args)\n\n  File \"C:\\Users\\yd57yjac\\Anaconda3\\envs\\tf\\lib\\site-packages\\tensorflow\\python\\ops\\script_ops.py\", line 147, in __call__\n    outputs = self._call(device, args)\n\n  File \"C:\\Users\\yd57yjac\\Anaconda3\\envs\\tf\\lib\\site-packages\\tensorflow\\python\\ops\\script_ops.py\", line 154, in _call\n    ret = self._func(*args)\n\n  File \"C:\\Users\\yd57yjac\\Anaconda3\\envs\\tf\\lib\\site-packages\\tensorflow\\python\\autograph\\impl\\api.py\", line 642, in wrapper\n    return func(*args, **kwargs)\n\n  File \"C:\\Users\\yd57yjac\\PycharmProjects\\Genetic_NAS\\get_datasets\\Get_Datasets.py\", line 53, in augment\n    return rand_aug(images=images.numpy())\n\n  File \"C:\\Users\\yd57yjac\\Anaconda3\\envs\\tf\\lib\\site-packages\\imgaug\\augmenters\\meta.py\", line 2008, in __call__\n    return self.augment(*args, **kwargs)\n\n  File \"C:\\Users\\yd57yjac\\Anaconda3\\envs\\tf\\lib\\site-packages\\imgaug\\augmenters\\meta.py\", line 1979, in augment\n    batch_aug = self.augment_batch_(batch, hooks=hooks)\n\n  File \"C:\\Users\\yd57yjac\\Anaconda3\\envs\\tf\\lib\\site-packages\\imgaug\\augmenters\\meta.py\", line 641, in augment_batch_\n    batch_inaug = self._augment_batch_(\n\n  File \"C:\\Users\\yd57yjac\\Anaconda3\\envs\\tf\\lib\\site-packages\\imgaug\\augmenters\\meta.py\", line 3124, in _augment_batch_\n    batch = self[index].augment_batch_(\n\n  File \"C:\\Users\\yd57yjac\\Anaconda3\\envs\\tf\\lib\\site-packages\\imgaug\\augmenters\\meta.py\", line 641, in augment_batch_\n    batch_inaug = self._augment_batch_(\n\n  File \"C:\\Users\\yd57yjac\\Anaconda3\\envs\\tf\\lib\\site-packages\\imgaug\\augmenters\\meta.py\", line 3403, in _augment_batch_\n    batch_sub = self[augmenter_index].augment_batch_(\n\n  File \"C:\\Users\\yd57yjac\\Anaconda3\\envs\\tf\\lib\\site-packages\\imgaug\\augmenters\\meta.py\", line 641, in augment_batch_\n    batch_inaug = self._augment_batch_(\n\n  File \"C:\\Users\\yd57yjac\\Anaconda3\\envs\\tf\\lib\\site-packages\\imgaug\\augmenters\\pillike.py\", line 2513, in _augment_batch_\n    return super(Affine, self)._augment_batch_(\n\n  File \"C:\\Users\\yd57yjac\\Anaconda3\\envs\\tf\\lib\\site-packages\\imgaug\\augmenters\\geometric.py\", line 1336, in _augment_batch_\n    batch.images = self._augment_images_by_samples(batch.images,\n\n  File \"C:\\Users\\yd57yjac\\Anaconda3\\envs\\tf\\lib\\site-packages\\imgaug\\augmenters\\pillike.py\", line 2531, in _augment_images_by_samples\n    image[...] = warp_affine(\n\n  File \"C:\\Users\\yd57yjac\\Anaconda3\\envs\\tf\\lib\\site-packages\\imgaug\\augmenters\\pillike.py\", line 1310, in warp_affine\n    image_pil.transform(image_pil.size, PIL.Image.AFFINE, matrix,\n\n  File \"C:\\Users\\yd57yjac\\Anaconda3\\envs\\tf\\lib\\site-packages\\PIL\\Image.py\", line 2578, in transform\n    im = new(self.mode, size, fillcolor)\n\n  File \"C:\\Users\\yd57yjac\\Anaconda3\\envs\\tf\\lib\\site-packages\\PIL\\Image.py\", line 2806, in new\n    return im._new(core.fill(mode, size, color))\n\nTypeError: color must be int or single-element tuple\n\n\n\t [[{{node EagerPyFunc}}]] [Op:IteratorGetNext]"
     ]
    }
   ],
   "source": [
    "sample_images, _ = next(iter(train_ds_rand))\n",
    "plt.figure()\n",
    "for i, image in enumerate(sample_images[:16]):\n",
    "    ax = plt.subplot(4, 4, i + 1)\n",
    "    plt.imshow(image.numpy().astype(\"int\"))\n",
    "    plt.axis(\"off\")"
   ],
   "metadata": {
    "collapsed": false
   }
  },
  {
   "cell_type": "code",
   "execution_count": null,
   "outputs": [],
   "source": [
    "model_array = np.random.randint(0, 2, (9, 18))"
   ],
   "metadata": {
    "collapsed": false
   }
  },
  {
   "cell_type": "code",
   "execution_count": null,
   "outputs": [],
   "source": [
    "test_model = create_model(model_array, num_classes=2, input_shape=(128, 128, 3))\n",
    "test_model.summary()"
   ],
   "metadata": {
    "collapsed": false
   }
  },
  {
   "cell_type": "code",
   "execution_count": null,
   "outputs": [],
   "source": [
    "test_model, history = train_model(train_ds_rand, val_ds, test_model)"
   ],
   "metadata": {
    "collapsed": false
   }
  },
  {
   "cell_type": "code",
   "execution_count": null,
   "outputs": [],
   "source": [],
   "metadata": {
    "collapsed": false
   }
  },
  {
   "cell_type": "code",
   "execution_count": null,
   "outputs": [],
   "source": [],
   "metadata": {
    "collapsed": false
   }
  }
 ],
 "metadata": {
  "kernelspec": {
   "display_name": "Python 3",
   "language": "python",
   "name": "python3"
  },
  "language_info": {
   "codemirror_mode": {
    "name": "ipython",
    "version": 2
   },
   "file_extension": ".py",
   "mimetype": "text/x-python",
   "name": "python",
   "nbconvert_exporter": "python",
   "pygments_lexer": "ipython2",
   "version": "2.7.6"
  }
 },
 "nbformat": 4,
 "nbformat_minor": 0
}
