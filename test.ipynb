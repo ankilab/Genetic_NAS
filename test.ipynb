{
 "cells": [
  {
   "cell_type": "code",
   "execution_count": null,
   "metadata": {
    "collapsed": true,
    "pycharm": {
     "is_executing": true
    }
   },
   "outputs": [],
   "source": [
    "from get_datasets.get_datasets import get_data_array, get_datasets\n",
    "import matplotlib.pyplot as plt\n"
   ]
  },
  {
   "cell_type": "code",
   "execution_count": null,
   "outputs": [],
   "source": [
    "x_train, y_train, x_val, y_val, x_test, y_test = get_data_array(train_dir='/Users/yipengsun/Desktop/Edge '\n",
    "                                                                              'TPU/chest_xray_new/train',\n",
    "                                                                    test_dir='/Users/yipengsun/Desktop/Edge '\n",
    "                                                                             'TPU/chest_xray_new/test')\n",
    "\n",
    "train_ds_rand, val_ds, test_ds, train_ds = get_datasets(x_train, y_train, x_test, y_test, x_val, y_val)\n",
    "\n",
    "sample_images, _ = next(iter(train_ds_rand))\n",
    "plt.figure(figsize=(10, 10))\n",
    "for i, image in enumerate(sample_images[:9]):\n",
    "    ax = plt.subplot(3, 3, i + 1)\n",
    "    plt.imshow(image.numpy().astype(\"int\"))\n",
    "    plt.axis(\"off\")"
   ],
   "metadata": {
    "collapsed": false
   }
  }
 ],
 "metadata": {
  "kernelspec": {
   "display_name": "Python 3",
   "language": "python",
   "name": "python3"
  },
  "language_info": {
   "codemirror_mode": {
    "name": "ipython",
    "version": 2
   },
   "file_extension": ".py",
   "mimetype": "text/x-python",
   "name": "python",
   "nbconvert_exporter": "python",
   "pygments_lexer": "ipython2",
   "version": "2.7.6"
  }
 },
 "nbformat": 4,
 "nbformat_minor": 0
}
