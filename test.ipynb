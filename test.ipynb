{
 "cells": [
  {
   "cell_type": "code",
   "execution_count": 3,
   "metadata": {
    "collapsed": true
   },
   "outputs": [],
   "source": [
    "import pickle\n"
   ]
  },
  {
   "cell_type": "code",
   "execution_count": 78,
   "outputs": [],
   "source": [
    "with open('results_14032023164450/generation_6/fitness_list.pkl', 'rb') as f:\n",
    "    data = pickle.load(f)\n",
    "    f.close()\n"
   ],
   "metadata": {
    "collapsed": false
   }
  },
  {
   "cell_type": "code",
   "execution_count": 79,
   "outputs": [
    {
     "data": {
      "text/plain": "[0.7425417351152105,\n 0.631708636280787,\n 0.7336383921338323,\n 0.7721099303376605,\n 0.744253173006421,\n 0.6585042453448402,\n 0.6804804308456673,\n 0.709250445743412,\n 0.7544012443286151,\n 0.6964862387317251,\n 0.6434325847124989,\n 0.7431989295835437,\n 0.7124682784351313,\n 0.3666585999647949,\n 0.5875432102233401,\n 0.6551376714413644,\n 0.5165919864769651,\n 0.7264496750040551,\n 0.7177850939275011,\n 0.6992808223856372]"
     },
     "execution_count": 79,
     "metadata": {},
     "output_type": "execute_result"
    }
   ],
   "source": [
    "data"
   ],
   "metadata": {
    "collapsed": false
   }
  },
  {
   "cell_type": "code",
   "execution_count": 106,
   "outputs": [],
   "source": [
    "with open('results_14032023164450/generation_11/best_model_arrays.pkl', 'rb') as f:\n",
    "    data = pickle.load(f)\n",
    "    f.close()"
   ],
   "metadata": {
    "collapsed": false
   }
  },
  {
   "cell_type": "code",
   "execution_count": 107,
   "outputs": [
    {
     "data": {
      "text/plain": "array([[0, 1, 0, 0, 1, 1, 0, 0, 0, 0, 0, 0, 0, 0, 1, 1, 1, 0],\n       [0, 0, 0, 1, 1, 1, 1, 0, 0, 0, 1, 0, 1, 1, 1, 0, 1, 0],\n       [0, 1, 1, 0, 1, 1, 1, 0, 0, 1, 0, 0, 1, 1, 0, 0, 0, 1],\n       [0, 1, 1, 1, 1, 1, 1, 1, 0, 1, 1, 1, 0, 1, 0, 1, 0, 0],\n       [1, 1, 1, 0, 0, 1, 0, 0, 0, 0, 0, 1, 0, 0, 0, 0, 0, 0],\n       [1, 0, 1, 0, 1, 0, 0, 0, 0, 1, 1, 0, 0, 1, 0, 0, 1, 1],\n       [1, 1, 0, 0, 0, 1, 1, 0, 0, 1, 1, 0, 0, 1, 1, 1, 0, 1],\n       [0, 0, 1, 1, 1, 0, 1, 1, 1, 1, 0, 0, 1, 0, 1, 1, 0, 0],\n       [1, 1, 0, 0, 1, 0, 0, 0, 0, 1, 0, 0, 0, 1, 1, 0, 0, 0]])"
     },
     "execution_count": 107,
     "metadata": {},
     "output_type": "execute_result"
    }
   ],
   "source": [
    "data[-1]"
   ],
   "metadata": {
    "collapsed": false
   }
  },
  {
   "cell_type": "code",
   "execution_count": 4,
   "outputs": [],
   "source": [
    "with open('results_14032023164450/generation_6/best_model_arrays.pkl', 'rb') as f:\n",
    "    data = pickle.load(f)\n",
    "    f.close()"
   ],
   "metadata": {
    "collapsed": false
   }
  },
  {
   "cell_type": "code",
   "execution_count": 5,
   "outputs": [
    {
     "data": {
      "text/plain": "array([[0, 1, 0, 0, 1, 1, 0, 0, 0, 1, 0, 0, 0, 0, 1, 1, 1, 0],\n       [0, 1, 0, 1, 1, 1, 0, 0, 0, 1, 1, 0, 1, 1, 1, 1, 1, 0],\n       [0, 1, 1, 1, 1, 1, 1, 0, 0, 1, 0, 0, 1, 0, 0, 0, 1, 1],\n       [0, 1, 1, 1, 1, 1, 1, 1, 1, 0, 1, 1, 0, 1, 0, 1, 0, 0],\n       [1, 1, 1, 0, 0, 1, 1, 0, 0, 1, 1, 1, 1, 0, 1, 0, 0, 0],\n       [1, 0, 1, 0, 1, 1, 0, 0, 0, 1, 0, 0, 0, 1, 0, 0, 1, 0],\n       [1, 1, 1, 0, 1, 1, 0, 0, 0, 0, 1, 1, 0, 0, 0, 1, 0, 1],\n       [0, 1, 0, 0, 1, 1, 0, 1, 0, 1, 1, 0, 1, 0, 1, 1, 1, 0],\n       [1, 1, 0, 0, 1, 0, 0, 0, 0, 0, 1, 0, 0, 1, 0, 0, 1, 0]])"
     },
     "execution_count": 5,
     "metadata": {},
     "output_type": "execute_result"
    }
   ],
   "source": [
    "data[-1]"
   ],
   "metadata": {
    "collapsed": false
   }
  },
  {
   "cell_type": "code",
   "execution_count": null,
   "outputs": [],
   "source": [
    "from tools.Create_Model import create_model, model_summary\n",
    "model = create_model(model_array=data[-1])\n",
    "model_summary(model)"
   ],
   "metadata": {
    "collapsed": false,
    "pycharm": {
     "is_executing": true
    }
   }
  },
  {
   "cell_type": "code",
   "execution_count": null,
   "outputs": [],
   "source": [
    "import matplotlib.pyplot as plt\n",
    "import seaborn as sns\n",
    "\n",
    "sns.set_style('whitegrid')\n",
    "\n",
    "fitness_0 = [0.6566757559776306, 0.5449591279029846, 0.7166212797164917, 0.6239781975746155, 0.7411444187164307, 0.7820163369178772, 0.42234331369400024, 0.30517712235450745, 0.6076294183731079, 0.23160763084888458, 0.2888283431529999, 0.23160763084888458, 0.4359672963619232, 0.4550408720970154, 0.7356948256492615, 0.6021798253059387, 0.6702997088432312, 0.2179836481809616, 0.7411444187164307, 0.7029972672462463, 0.47956404089927673, 0.7166212797164917, 0.7411444187164307, 0.23160763084888458, 0.6021798253059387]\n",
    "fitness_11 = [0.8283378481864929, 0.7602179646492004, 0.8474114537239075, 0.7629427909851074, 0.8147138953208923, 0.8283378481864929, 0.8174387216567993, 0.8283378481864929, 0.7901907563209534, 0.7983651161193848, 0.7465940117835999, 0.7683923840522766, 0.8092643022537231, 0.7711171507835388, 0.7465940117835999, 0.7711171507835388, 0.7629427909851074, 0.7901907563209534, 0.7820163369178772, 0.8119891285896301, 0.8228882551193237, 0.8256130814552307, 0.8065395355224609, 0.7901907563209534, 0.8010899424552917]\n",
    "\n",
    "fig, ax = plt.subplots()\n",
    "boxprops = dict(linestyle='-', color='darkgray')\n",
    "medianprops = dict(linestyle='-', color='navy')\n",
    "whiskerprops = dict(linestyle='--', color='gray')\n",
    "\n",
    "bp = ax.boxplot([fitness_0, fitness_11], boxprops=boxprops, medianprops=medianprops, whiskerprops=whiskerprops, showfliers=False, patch_artist=True)\n",
    "colors = ['lightblue', 'cornflowerblue']\n",
    "for patch, color in zip(bp['boxes'], colors):\n",
    "    patch.set_facecolor(color)\n",
    "\n",
    "ax.set_xticklabels(['Generation 0', 'Generation 11'])\n",
    "ax.set_ylabel('Fitness')\n",
    "ax.tick_params(axis='both')\n",
    "ax.set_title('Comparison of Fitness')\n",
    "plt.show()\n"
   ],
   "metadata": {
    "collapsed": false
   }
  }
 ],
 "metadata": {
  "kernelspec": {
   "display_name": "Python 3",
   "language": "python",
   "name": "python3"
  },
  "language_info": {
   "codemirror_mode": {
    "name": "ipython",
    "version": 2
   },
   "file_extension": ".py",
   "mimetype": "text/x-python",
   "name": "python",
   "nbconvert_exporter": "python",
   "pygments_lexer": "ipython2",
   "version": "2.7.6"
  }
 },
 "nbformat": 4,
 "nbformat_minor": 0
}
